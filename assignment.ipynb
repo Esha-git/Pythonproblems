{
 "cells": [
  {
   "cell_type": "code",
   "execution_count": 5,
   "id": "b33de898",
   "metadata": {},
   "outputs": [
    {
     "name": "stdout",
     "output_type": "stream",
     "text": [
      "Products DataFrame:\n",
      "   Product Name  Price     Category  Discounted Price\n",
      "0       Laptop  60000  Electronics           54000.0\n",
      "1        Phone  45000  Electronics           40500.0\n",
      "2       Tablet  25000  Electronics           22500.0\n",
      "3   Headphones   2000  Accessories            1800.0\n",
      "4   Smartwatch   8000  Electronics            7200.0\n",
      "\n",
      "Products cheaper than 500:\n",
      " Empty DataFrame\n",
      "Columns: [Product Name, Price, Category, Discounted Price]\n",
      "Index: []\n"
     ]
    }
   ],
   "source": [
    "import pandas as pd\n",
    "\n",
    "products = {\n",
    "    \"Product Name\": [\"Laptop\", \"Phone\", \"Tablet\", \"Headphones\", \"Smartwatch\"],\n",
    "    \"Price\": [60000, 45000, 25000, 2000, 8000],\n",
    "    \"Category\": [\"Electronics\", \"Electronics\", \"Electronics\", \"Accessories\", \"Electronics\"]\n",
    "}\n",
    "\n",
    "df = pd.DataFrame(products)\n",
    "df[\"Discounted Price\"] = df[\"Price\"] * 0.9\n",
    "print(\"Products DataFrame:\\n\", df)\n",
    "\n",
    "print(\"\\nProducts cheaper than 500:\\n\", df[df[\"Price\"] < 500])\n"
   ]
  },
  {
   "cell_type": "code",
   "execution_count": 4,
   "id": "404a2809",
   "metadata": {},
   "outputs": [
    {
     "name": "stdout",
     "output_type": "stream",
     "text": [
      "5x5 Random Array:\n",
      " [[100  95  92   4  75]\n",
      " [ 86  36   7  42   6]\n",
      " [ 48  24  91  18  80]\n",
      " [ 37  14  72  55  50]\n",
      " [ 27  64  93  40  87]]\n"
     ]
    }
   ],
   "source": [
    "import numpy as np\n",
    "\n",
    "array = np.random.randint(1, 101, size=(5, 5))\n",
    "print(\"5x5 Random Array:\\n\", array)\n"
   ]
  },
  {
   "cell_type": "code",
   "execution_count": 3,
   "id": "97fd51dc",
   "metadata": {},
   "outputs": [
    {
     "name": "stdout",
     "output_type": "stream",
     "text": [
      "Students DataFrame:\n",
      "       Name  Marks\n",
      "0    Alice     75\n",
      "1      Bob     82\n",
      "2  Charlie     67\n",
      "3    David     90\n",
      "4      Eva     88\n",
      "\n",
      "Students scoring more than 80:\n",
      "     Name  Marks\n",
      "1    Bob     82\n",
      "3  David     90\n",
      "4    Eva     88\n"
     ]
    }
   ],
   "source": [
    "import pandas as pd\n",
    "\n",
    "students = {\n",
    "    \"Name\": [\"Alice\", \"Bob\", \"Charlie\", \"David\", \"Eva\"],\n",
    "    \"Marks\": [75, 82, 67, 90, 88]\n",
    "}\n",
    "\n",
    "df = pd.DataFrame(students)\n",
    "print(\"Students DataFrame:\\n\", df)\n",
    "\n",
    "print(\"\\nStudents scoring more than 80:\\n\", df[df[\"Marks\"] > 80])\n"
   ]
  },
  {
   "cell_type": "code",
   "execution_count": 2,
   "id": "02a3900d",
   "metadata": {},
   "outputs": [
    {
     "name": "stdout",
     "output_type": "stream",
     "text": [
      "Squares: [1, 4, 9, 16, 25]\n"
     ]
    }
   ],
   "source": [
    "numbers = [1, 2, 3, 4, 5]\n",
    "squares = [x**2 for x in numbers]\n",
    "print(\"Squares:\", squares)\n"
   ]
  },
  {
   "cell_type": "code",
   "execution_count": null,
   "id": "f8b82de0",
   "metadata": {},
   "outputs": [
    {
     "name": "stdout",
     "output_type": "stream",
     "text": [
      "It is a palindrome!\n"
     ]
    }
   ],
   "source": [
    "def is_palindrome(s):\n",
    "    s = s.lower().replace(\" \", \"\")  # ignore spaces and case\n",
    "    return s == s[::-1]\n",
    "\n",
    "# User input\n",
    "user_input = input(\"Enter a string:\")\n",
    "if is_palindrome(user_input):\n",
    "    print(\"It is a palindrome!\")\n",
    "else:\n",
    "    print(\"Not a palindrome.\")\n"
   ]
  }
 ],
 "metadata": {
  "kernelspec": {
   "display_name": "Python 3",
   "language": "python",
   "name": "python3"
  },
  "language_info": {
   "codemirror_mode": {
    "name": "ipython",
    "version": 3
   },
   "file_extension": ".py",
   "mimetype": "text/x-python",
   "name": "python",
   "nbconvert_exporter": "python",
   "pygments_lexer": "ipython3",
   "version": "3.13.3"
  }
 },
 "nbformat": 4,
 "nbformat_minor": 5
}
